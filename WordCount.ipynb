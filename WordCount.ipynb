{
 "cells": [
  {
   "cell_type": "code",
   "execution_count": 36,
   "id": "4cb7a772",
   "metadata": {},
   "outputs": [],
   "source": [
    "# import library for pyspark\n",
    "import pyspark"
   ]
  },
  {
   "cell_type": "code",
   "execution_count": 37,
   "id": "0ea9873e",
   "metadata": {},
   "outputs": [],
   "source": [
    "# To create SparkContext\n",
    "from pyspark import SparkContext"
   ]
  },
  {
   "cell_type": "code",
   "execution_count": 38,
   "id": "df18020a",
   "metadata": {},
   "outputs": [],
   "source": [
    "sc = SparkContext()"
   ]
  },
  {
   "cell_type": "code",
   "execution_count": 39,
   "id": "4a5539cd",
   "metadata": {},
   "outputs": [],
   "source": [
    "text_file = sc.textFile(\"Source/text.txt\")"
   ]
  },
  {
   "cell_type": "code",
   "execution_count": 40,
   "id": "2b573094",
   "metadata": {},
   "outputs": [
    {
     "data": {
      "text/plain": [
       "['Each working data pipeline is designed like a log; ',\n",
       " 'each broken data pipeline is broken in its own way ',\n",
       " '- Count Leo Tolstoy']"
      ]
     },
     "execution_count": 40,
     "metadata": {},
     "output_type": "execute_result"
    }
   ],
   "source": [
    "text_file.collect()"
   ]
  },
  {
   "cell_type": "code",
   "execution_count": 41,
   "id": "a292846d",
   "metadata": {},
   "outputs": [],
   "source": [
    "new1 = text_file.flatMap(lambda line: line.split(\"@\"))"
   ]
  },
  {
   "cell_type": "code",
   "execution_count": 42,
   "id": "aaa0a635",
   "metadata": {},
   "outputs": [
    {
     "data": {
      "text/plain": [
       "['Each working data pipeline is designed like a log; ',\n",
       " 'each broken data pipeline is broken in its own way ',\n",
       " '- Count Leo Tolstoy']"
      ]
     },
     "execution_count": 42,
     "metadata": {},
     "output_type": "execute_result"
    }
   ],
   "source": [
    "new1.collect()"
   ]
  },
  {
   "cell_type": "code",
   "execution_count": 43,
   "id": "a04ad7a7",
   "metadata": {},
   "outputs": [],
   "source": [
    "text_file = sc.textFile(\"Source/text.txt\")"
   ]
  },
  {
   "cell_type": "code",
   "execution_count": 44,
   "id": "5f7cfa4f",
   "metadata": {},
   "outputs": [],
   "source": [
    "counts = text_file.flatMap(lambda line: line.split(\" \"))"
   ]
  },
  {
   "cell_type": "code",
   "execution_count": 45,
   "id": "50ad2f20",
   "metadata": {},
   "outputs": [
    {
     "data": {
      "text/plain": [
       "['Each',\n",
       " 'working',\n",
       " 'data',\n",
       " 'pipeline',\n",
       " 'is',\n",
       " 'designed',\n",
       " 'like',\n",
       " 'a',\n",
       " 'log;',\n",
       " '',\n",
       " 'each',\n",
       " 'broken',\n",
       " 'data',\n",
       " 'pipeline',\n",
       " 'is',\n",
       " 'broken',\n",
       " 'in',\n",
       " 'its',\n",
       " 'own',\n",
       " 'way',\n",
       " '',\n",
       " '-',\n",
       " 'Count',\n",
       " 'Leo',\n",
       " 'Tolstoy']"
      ]
     },
     "execution_count": 45,
     "metadata": {},
     "output_type": "execute_result"
    }
   ],
   "source": [
    "counts.collect()"
   ]
  },
  {
   "cell_type": "code",
   "execution_count": 46,
   "id": "8f068f9f",
   "metadata": {},
   "outputs": [],
   "source": [
    "counts1 = counts.map(lambda word: (word, 1))"
   ]
  },
  {
   "cell_type": "code",
   "execution_count": 47,
   "id": "36b1c2ee",
   "metadata": {},
   "outputs": [
    {
     "data": {
      "text/plain": [
       "[('Each', 1),\n",
       " ('working', 1),\n",
       " ('data', 1),\n",
       " ('pipeline', 1),\n",
       " ('is', 1),\n",
       " ('designed', 1),\n",
       " ('like', 1),\n",
       " ('a', 1),\n",
       " ('log;', 1),\n",
       " ('', 1),\n",
       " ('each', 1),\n",
       " ('broken', 1),\n",
       " ('data', 1),\n",
       " ('pipeline', 1),\n",
       " ('is', 1),\n",
       " ('broken', 1),\n",
       " ('in', 1),\n",
       " ('its', 1),\n",
       " ('own', 1),\n",
       " ('way', 1),\n",
       " ('', 1),\n",
       " ('-', 1),\n",
       " ('Count', 1),\n",
       " ('Leo', 1),\n",
       " ('Tolstoy', 1)]"
      ]
     },
     "execution_count": 47,
     "metadata": {},
     "output_type": "execute_result"
    }
   ],
   "source": [
    "counts1.collect()"
   ]
  },
  {
   "cell_type": "code",
   "execution_count": 48,
   "id": "7e2e1d48",
   "metadata": {},
   "outputs": [],
   "source": [
    "counts3 = counts1.reduceByKey(lambda x, y: x + y)"
   ]
  },
  {
   "cell_type": "code",
   "execution_count": 49,
   "id": "6f068cae",
   "metadata": {},
   "outputs": [
    {
     "data": {
      "text/plain": [
       "[('Each', 1),\n",
       " ('working', 1),\n",
       " ('pipeline', 2),\n",
       " ('is', 2),\n",
       " ('designed', 1),\n",
       " ('like', 1),\n",
       " ('', 2),\n",
       " ('in', 1),\n",
       " ('own', 1),\n",
       " ('way', 1),\n",
       " ('Count', 1),\n",
       " ('Leo', 1),\n",
       " ('data', 2),\n",
       " ('a', 1),\n",
       " ('log;', 1),\n",
       " ('each', 1),\n",
       " ('broken', 2),\n",
       " ('its', 1),\n",
       " ('-', 1),\n",
       " ('Tolstoy', 1)]"
      ]
     },
     "execution_count": 49,
     "metadata": {},
     "output_type": "execute_result"
    }
   ],
   "source": [
    "counts3.collect()"
   ]
  },
  {
   "cell_type": "code",
   "execution_count": 50,
   "id": "b193f78a",
   "metadata": {},
   "outputs": [
    {
     "data": {
      "text/plain": [
       "[('Each', 1),\n",
       " ('working', 1),\n",
       " ('pipeline', 2),\n",
       " ('designed', 1),\n",
       " ('like', 1),\n",
       " ('', 2),\n",
       " ('in', 1),\n",
       " ('own', 1),\n",
       " ('way', 1),\n",
       " ('Count', 1),\n",
       " ('Leo', 1),\n",
       " ('data', 2),\n",
       " ('a', 1),\n",
       " ('log;', 1),\n",
       " ('each', 1),\n",
       " ('broken', 2),\n",
       " ('its', 1),\n",
       " ('-', 1),\n",
       " ('Tolstoy', 1)]"
      ]
     },
     "execution_count": 50,
     "metadata": {},
     "output_type": "execute_result"
    }
   ],
   "source": [
    "counts3.filter(lambda x: x[0] not in [\"for\", \"and\", \"not\", \"on\", \"the\", \"as\", \"of\", \"is\"]).collect()"
   ]
  },
  {
   "cell_type": "code",
   "execution_count": 51,
   "id": "32c86bce",
   "metadata": {},
   "outputs": [],
   "source": [
    "sc.stop()"
   ]
  }
 ],
 "metadata": {
  "kernelspec": {
   "display_name": "Python 3 (ipykernel)",
   "language": "python",
   "name": "python3"
  },
  "language_info": {
   "codemirror_mode": {
    "name": "ipython",
    "version": 3
   },
   "file_extension": ".py",
   "mimetype": "text/x-python",
   "name": "python",
   "nbconvert_exporter": "python",
   "pygments_lexer": "ipython3",
   "version": "3.9.7"
  }
 },
 "nbformat": 4,
 "nbformat_minor": 5
}
